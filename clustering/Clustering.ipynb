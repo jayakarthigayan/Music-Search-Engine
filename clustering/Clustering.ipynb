{
 "metadata": {
  "name": "",
  "signature": "sha256:d331c49b230bda9bf1f7a42b87d51c0f4229b6a591996d0949fe3127390e15b1"
 },
 "nbformat": 3,
 "nbformat_minor": 0,
 "worksheets": [
  {
   "cells": [
    {
     "cell_type": "code",
     "collapsed": false,
     "input": [
      "from sklearn.feature_extraction.text import TfidfVectorizer\n",
      "from math import sqrt, floor\n",
      "from sklearn.cluster import KMeans\n",
      "from sklearn.metrics.pairwise import cosine_similarity\n",
      "from operator import itemgetter\n",
      "\n",
      "PRINTABLE_CHARS = \"0123456789abcdefghijklmnopqrstuvwxyzABCDEFGHIJKLMNOPQRSTUVWXYZ; \"\n",
      "NUM_DATAPOINTS = 8000"
     ],
     "language": "python",
     "metadata": {},
     "outputs": [],
     "prompt_number": 21
    },
    {
     "cell_type": "code",
     "collapsed": false,
     "input": [
      "def getField(fields, field):\n",
      "    if fields[field] != \"*^*\":\n",
      "        return fields[field]\n",
      "    else:\n",
      "        return \"\"\n",
      "\n",
      "def getDoc(f):\n",
      "    docl = getField(f, 1)+\" \"+getField(f, 2)+\" \"+getField(f, 3)+\" \"+getField(f, 5)+\" \"+getField(f, 6)+\" \"+getField(f, 8)+\" \"+getField(f, 9)\n",
      "    return docl\n",
      "\n",
      "def getClusterLabel(document):\n",
      "    return clusters[doc_ids.index(document)]\n",
      "\n",
      "def getRelatedDocs(document, num=5):\n",
      "    try:\n",
      "        label = getClusterLabel(document)\n",
      "        docdists = {i: dist[doc_ids.index(document), i] for i, x in enumerate(clusters) if x == label}\n",
      "        return [doc_ids[x[0]] for x in sorted(docdists.items(), key=itemgetter(1))[1:num+1]]\n",
      "    except ValueError:\n",
      "        return -1\n",
      "\n",
      "with open(\"../Parsed data/combined.txt\") as f:\n",
      "    data = f.readlines()\n",
      "\n",
      "def getDocDist(doc, reldoc):\n",
      "    return dist[doc, reldoc]\n",
      "    "
     ],
     "language": "python",
     "metadata": {},
     "outputs": [],
     "prompt_number": 49
    },
    {
     "cell_type": "code",
     "collapsed": false,
     "input": [
      "# Id,title,artist,album,albumArt,year,genre,URL,MetaPageTitle,MetaPageDescription\n",
      "documents = []\n",
      "doc_ids = []\n",
      "for l in data[:NUM_DATAPOINTS]:\n",
      "    l = filter(lambda x: x in PRINTABLE_CHARS, l)\n",
      "    fields = l.split(\";\")\n",
      "    if len(fields) == 10:\n",
      "        documents.append(getDoc(fields))\n",
      "        doc_ids.append(getField(fields, 0))\n",
      "\n",
      "print \"# Documents: %i\" % len(documents)\n",
      "\n",
      "tfidf_vectorizer = TfidfVectorizer(use_idf=True)\n",
      "tfidf_matrix = tfidf_vectorizer.fit_transform(documents)\n",
      "\n",
      "num_clusters = int(floor(sqrt(len(documents)/2)))\n",
      "terms = tfidf_vectorizer.get_feature_names()\n",
      "dist = 1 - cosine_similarity(tfidf_matrix)\n",
      "\n",
      "km = KMeans(n_clusters=num_clusters)\n",
      "km.fit(tfidf_matrix)\n",
      "clusters = km.labels_.tolist()"
     ],
     "language": "python",
     "metadata": {},
     "outputs": [
      {
       "output_type": "stream",
       "stream": "stdout",
       "text": [
        "# Documents: 8000\n"
       ]
      }
     ],
     "prompt_number": 5
    },
    {
     "cell_type": "code",
     "collapsed": false,
     "input": [
      "# Report num of terms\n",
      "# Report num of documents\n",
      "getRelatedDocs(334123)\n"
     ],
     "language": "python",
     "metadata": {},
     "outputs": [
      {
       "metadata": {},
       "output_type": "pyout",
       "prompt_number": 50,
       "text": [
        "-1"
       ]
      }
     ],
     "prompt_number": 50
    },
    {
     "cell_type": "code",
     "collapsed": false,
     "input": [
      "from flask import Flask, url_for\n",
      "app = Flask(__name__)\n",
      "\n",
      "@app.route('/similar_pages/<document>')\n",
      "def api_document(document):\n",
      "    rel_docs = getRelatedDocs(document)\n",
      "    if rel_docs != -1:\n",
      "        return str({i: rd for i, rd in enumerate(getRelatedDocs(document))})\n",
      "    else:\n",
      "        return \"{}\"\n",
      "\n",
      "\n",
      "if __name__ == '__main__':\n",
      "    app.run(host='10.177.49.144')"
     ],
     "language": "python",
     "metadata": {},
     "outputs": []
    },
    {
     "cell_type": "code",
     "collapsed": false,
     "input": [],
     "language": "python",
     "metadata": {},
     "outputs": []
    }
   ],
   "metadata": {}
  }
 ]
}